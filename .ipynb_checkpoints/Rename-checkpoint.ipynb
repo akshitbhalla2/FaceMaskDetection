{
 "cells": [
  {
   "cell_type": "code",
   "execution_count": 1,
   "metadata": {},
   "outputs": [],
   "source": [
    "import os"
   ]
  },
  {
   "cell_type": "code",
   "execution_count": 2,
   "metadata": {},
   "outputs": [],
   "source": [
    "path = \"./DATASET/Mask/\"\n",
    "files = os.listdir(path)\n",
    "\n",
    "for index, file in enumerate(files):\n",
    "    if \".jpg\" in file.lower():\n",
    "        os.rename(os.path.join(path, file), os.path.join(path, ''.join([str(index), '.jpg'])))\n",
    "    elif \".jpeg\" in file.lower():\n",
    "        os.rename(os.path.join(path, file), os.path.join(path, ''.join([str(index), '.jpeg'])))\n",
    "    elif \".png\" in file.lower():\n",
    "        os.rename(os.path.join(path, file), os.path.join(path, ''.join([str(index), '.png'])))"
   ]
  },
  {
   "cell_type": "code",
   "execution_count": 3,
   "metadata": {},
   "outputs": [],
   "source": [
    "path = \"./DATASET/NoMask/\"\n",
    "files = os.listdir(path)\n",
    "\n",
    "for index, file in enumerate(files):\n",
    "    if \".jpg\" in file.lower():\n",
    "        os.rename(os.path.join(path, file), os.path.join(path, ''.join([str(index), '.jpg'])))\n",
    "    elif \".jpeg\" in file.lower():\n",
    "        os.rename(os.path.join(path, file), os.path.join(path, ''.join([str(index), '.jpeg'])))\n",
    "    elif \".png\" in file.lower():\n",
    "        os.rename(os.path.join(path, file), os.path.join(path, ''.join([str(index), '.png'])))"
   ]
  },
  {
   "cell_type": "code",
   "execution_count": null,
   "metadata": {},
   "outputs": [],
   "source": []
  }
 ],
 "metadata": {
  "kernelspec": {
   "display_name": "Python 3",
   "language": "python",
   "name": "python3"
  },
  "language_info": {
   "codemirror_mode": {
    "name": "ipython",
    "version": 3
   },
   "file_extension": ".py",
   "mimetype": "text/x-python",
   "name": "python",
   "nbconvert_exporter": "python",
   "pygments_lexer": "ipython3",
   "version": "3.7.4"
  }
 },
 "nbformat": 4,
 "nbformat_minor": 2
}
